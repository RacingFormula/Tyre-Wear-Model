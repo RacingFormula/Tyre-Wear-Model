{
 "cells": [
  {
   "cell_type": "markdown",
   "metadata": {},
   "source": [
    "# Tyre Wear Analysis\n",
    "\n",
    "This notebook analyses tyre wear over a race distance using the `TyreWearModel` class."
   ]
  },
  {
   "cell_type": "code",
   "execution_count": null,
   "metadata": {
    "vscode": {
     "languageId": "plaintext"
    }
   },
   "outputs": [],
   "source": [
    "import pandas as pd\n",
    "import matplotlib.pyplot as plt\n",
    "from src.wear_simulation import simulate_tyre_wear\n",
    "\n",
    "# Simulate tyre wear\n",
    "laps = 50\n",
    "wear_data = simulate_tyre_wear(laps, base_grip=1.0, wear_rate=0.015)\n",
    "\n",
    "# Plot tyre wear over laps\n",
    "plt.plot(wear_data[\"Lap\"], wear_data[\"Grip\"], label=\"Tyre Grip\")\n",
    "plt.xlabel(\"Lap Number\")\n",
    "plt.ylabel(\"Grip Level\")\n",
    "plt.title(\"Tyre Wear Over Race Distance\")\n",
    "plt.legend()\n",
    "plt.grid()\n",
    "plt.show()\n"
   ]
  }
 ],
 "metadata": {
  "language_info": {
   "name": "python"
  }
 },
 "nbformat": 4,
 "nbformat_minor": 2
}
